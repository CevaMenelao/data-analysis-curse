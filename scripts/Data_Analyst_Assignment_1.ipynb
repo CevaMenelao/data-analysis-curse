{
  "cells": [
    {
      "cell_type": "markdown",
      "metadata": {
        "id": "aLnNZc0IvUn3"
      },
      "source": [
        "#Data Analyst Assignment"
      ]
    },
    {
      "cell_type": "markdown",
      "metadata": {
        "id": "G26Ao7nQvahf"
      },
      "source": [
        "## Introduction\n",
        "\n",
        "You are working with a US retail customer on a pilot deployment.  They are using technology to track their merchandise throughout their supply chain.  The flow of their supply is:\n",
        "\n",
        "*   **DC 1:**  Orders are filled and palletized.\n",
        "*   **Truck:** Pallets travel from the DC 1 to DC 2 via semi-truck.\n",
        "*   **DC 2:**  Pallets are unloaded, and additional merchandise may be added.  They are then reloaded onto a new truck.\n",
        "*   **Truck:** Pallets travel from DC 2 to the Store.\n",
        "*   **Store:** Pallets are unloaded, cases are removed, and stocked, and the empty cases are left behind the building awaiting pickup.\n",
        "\n",
        "Your job is to dig into the data and find compelling insights to show the value fo the technology and help move the contract from a pilot into a full scaled deployment.\n",
        "\n",
        "\n",
        "\n",
        "---"
      ]
    },
    {
      "cell_type": "markdown",
      "metadata": {
        "id": "QLGYgyeQwO00"
      },
      "source": [
        "## Part 0: Imports"
      ]
    },
    {
      "cell_type": "markdown",
      "source": [
        "### Import necessary packages"
      ],
      "metadata": {
        "id": "JoIrxD8erlZU"
      }
    },
    {
      "cell_type": "code",
      "execution_count": 4,
      "metadata": {
        "id": "dOSZ-z9degpC",
        "outputId": "d1f38ecd-5a40-460e-e0c9-83244ed69164",
        "colab": {
          "base_uri": "https://localhost:8080/"
        }
      },
      "outputs": [
        {
          "output_type": "stream",
          "name": "stdout",
          "text": [
            "/content/drive/MyDrive/data-analysis-curse/data\n"
          ]
        }
      ],
      "source": [
        "# YOUR CODE HERE:\n",
        "\n",
        "## Imports\n",
        "import pandas as pd\n",
        "import numpy as np\n",
        "from datetime import datetime, date\n",
        "from google.colab import drive\n",
        "from google.colab import drive\n",
        "\n",
        "## Folder of data\n",
        "%cd /content/drive/MyDrive/data-analysis-curse/data"
      ]
    },
    {
      "cell_type": "markdown",
      "source": [
        "### Connect to drive and read dataset"
      ],
      "metadata": {
        "id": "_sC5GGcfqTFu"
      }
    },
    {
      "cell_type": "code",
      "source": [
        "## Connect to drive\n",
        "drive.mount('/content/drive')\n",
        "\n",
        "## Folder of data\n",
        "%cd /content/drive/MyDrive/data-analysis-curse/data\n",
        "\n",
        "## Read dataset\n",
        "df = pd.read_excel('Asignment_1.xlsx')\n",
        "df"
      ],
      "metadata": {
        "id": "tKj2Ajxvqca2",
        "outputId": "8106aa15-f4b6-42ea-fbf2-4d30e6fc6d7d",
        "colab": {
          "base_uri": "https://localhost:8080/",
          "height": 458
        }
      },
      "execution_count": 5,
      "outputs": [
        {
          "output_type": "stream",
          "name": "stdout",
          "text": [
            "Drive already mounted at /content/drive; to attempt to forcibly remount, call drive.mount(\"/content/drive\", force_remount=True).\n",
            "/content/drive/MyDrive/data-analysis-curse/data\n"
          ]
        },
        {
          "output_type": "execute_result",
          "data": {
            "text/plain": [
              "       asset_type  asset_id                           tag_id   Site  \\\n",
              "0            tote         2  (01)00850027865010(21)0082T0219   DC 1   \n",
              "1            tote         2  (01)00850027865010(21)0082T0219   DC 1   \n",
              "2            tote         2  (01)00850027865010(21)0082T0219   DC 1   \n",
              "3            tote         2  (01)00850027865010(21)0082T0219   DC 1   \n",
              "4            tote         2  (01)00850027865010(21)0082T0670   DC 1   \n",
              "...           ...       ...                              ...    ...   \n",
              "130056       tote       205  (01)00850027865010(21)0082T1137  Store   \n",
              "130057       tote       205  (01)00850027865010(21)0082T1137  Store   \n",
              "130058       tote       205  (01)00850027865010(21)0082T1137  Store   \n",
              "130059       tote       205  (01)00850027865010(21)0082T1137  Store   \n",
              "130060       tote       205  (01)00850027865010(21)0082T1137  Store   \n",
              "\n",
              "                     Zone     device_id                time_est       lat  \\\n",
              "0          dock_doors_DC1  7F9A8353E973 2022-08-02 11:59:26.628  47.79158   \n",
              "1          dock_doors_DC1  EC5B0499234F 2022-08-02 12:00:22.660  47.79158   \n",
              "2          dock_doors_DC1  7F9A8353E973 2022-08-02 12:01:11.234  47.79158   \n",
              "3          dock_doors_DC1  3D8B2BDB8673 2022-08-02 13:47:58.172  47.79158   \n",
              "4          dock_doors_DC1  7F9A8353E973 2022-08-02 11:58:55.049  47.79158   \n",
              "...                   ...           ...                     ...       ...   \n",
              "130056  store_front_Store  26AB1C9A2E41 2022-08-04 12:48:51.273  47.74923   \n",
              "130057  store_front_Store  26AB1C9A2E41 2022-08-04 12:49:58.699  47.74923   \n",
              "130058  store_front_Store  26AB1C9A2E41 2022-08-04 12:52:45.173  47.74923   \n",
              "130059  store_front_Store  26AB1C9A2E41 2022-08-04 12:53:48.228  47.74923   \n",
              "130060  store_front_Store  26AB1C9A2E41 2022-08-04 16:33:25.525  47.74923   \n",
              "\n",
              "             lng  Temperature_C  Temperature_F  \n",
              "0      -65.68902           23.0          73.40  \n",
              "1      -65.68902           23.0          73.40  \n",
              "2      -65.68902           23.0          73.40  \n",
              "3      -65.68902           23.5          74.30  \n",
              "4      -65.68902           23.0          73.40  \n",
              "...          ...            ...            ...  \n",
              "130056 -65.64101           23.1          73.58  \n",
              "130057 -65.64101           23.5          74.30  \n",
              "130058 -65.64101           23.0          73.40  \n",
              "130059 -65.64101           23.0          73.40  \n",
              "130060 -65.64101           24.0          75.20  \n",
              "\n",
              "[130061 rows x 11 columns]"
            ],
            "text/html": [
              "\n",
              "  <div id=\"df-6bba9150-ba5d-4a89-924f-398646a613d7\" class=\"colab-df-container\">\n",
              "    <div>\n",
              "<style scoped>\n",
              "    .dataframe tbody tr th:only-of-type {\n",
              "        vertical-align: middle;\n",
              "    }\n",
              "\n",
              "    .dataframe tbody tr th {\n",
              "        vertical-align: top;\n",
              "    }\n",
              "\n",
              "    .dataframe thead th {\n",
              "        text-align: right;\n",
              "    }\n",
              "</style>\n",
              "<table border=\"1\" class=\"dataframe\">\n",
              "  <thead>\n",
              "    <tr style=\"text-align: right;\">\n",
              "      <th></th>\n",
              "      <th>asset_type</th>\n",
              "      <th>asset_id</th>\n",
              "      <th>tag_id</th>\n",
              "      <th>Site</th>\n",
              "      <th>Zone</th>\n",
              "      <th>device_id</th>\n",
              "      <th>time_est</th>\n",
              "      <th>lat</th>\n",
              "      <th>lng</th>\n",
              "      <th>Temperature_C</th>\n",
              "      <th>Temperature_F</th>\n",
              "    </tr>\n",
              "  </thead>\n",
              "  <tbody>\n",
              "    <tr>\n",
              "      <th>0</th>\n",
              "      <td>tote</td>\n",
              "      <td>2</td>\n",
              "      <td>(01)00850027865010(21)0082T0219</td>\n",
              "      <td>DC 1</td>\n",
              "      <td>dock_doors_DC1</td>\n",
              "      <td>7F9A8353E973</td>\n",
              "      <td>2022-08-02 11:59:26.628</td>\n",
              "      <td>47.79158</td>\n",
              "      <td>-65.68902</td>\n",
              "      <td>23.0</td>\n",
              "      <td>73.40</td>\n",
              "    </tr>\n",
              "    <tr>\n",
              "      <th>1</th>\n",
              "      <td>tote</td>\n",
              "      <td>2</td>\n",
              "      <td>(01)00850027865010(21)0082T0219</td>\n",
              "      <td>DC 1</td>\n",
              "      <td>dock_doors_DC1</td>\n",
              "      <td>EC5B0499234F</td>\n",
              "      <td>2022-08-02 12:00:22.660</td>\n",
              "      <td>47.79158</td>\n",
              "      <td>-65.68902</td>\n",
              "      <td>23.0</td>\n",
              "      <td>73.40</td>\n",
              "    </tr>\n",
              "    <tr>\n",
              "      <th>2</th>\n",
              "      <td>tote</td>\n",
              "      <td>2</td>\n",
              "      <td>(01)00850027865010(21)0082T0219</td>\n",
              "      <td>DC 1</td>\n",
              "      <td>dock_doors_DC1</td>\n",
              "      <td>7F9A8353E973</td>\n",
              "      <td>2022-08-02 12:01:11.234</td>\n",
              "      <td>47.79158</td>\n",
              "      <td>-65.68902</td>\n",
              "      <td>23.0</td>\n",
              "      <td>73.40</td>\n",
              "    </tr>\n",
              "    <tr>\n",
              "      <th>3</th>\n",
              "      <td>tote</td>\n",
              "      <td>2</td>\n",
              "      <td>(01)00850027865010(21)0082T0219</td>\n",
              "      <td>DC 1</td>\n",
              "      <td>dock_doors_DC1</td>\n",
              "      <td>3D8B2BDB8673</td>\n",
              "      <td>2022-08-02 13:47:58.172</td>\n",
              "      <td>47.79158</td>\n",
              "      <td>-65.68902</td>\n",
              "      <td>23.5</td>\n",
              "      <td>74.30</td>\n",
              "    </tr>\n",
              "    <tr>\n",
              "      <th>4</th>\n",
              "      <td>tote</td>\n",
              "      <td>2</td>\n",
              "      <td>(01)00850027865010(21)0082T0670</td>\n",
              "      <td>DC 1</td>\n",
              "      <td>dock_doors_DC1</td>\n",
              "      <td>7F9A8353E973</td>\n",
              "      <td>2022-08-02 11:58:55.049</td>\n",
              "      <td>47.79158</td>\n",
              "      <td>-65.68902</td>\n",
              "      <td>23.0</td>\n",
              "      <td>73.40</td>\n",
              "    </tr>\n",
              "    <tr>\n",
              "      <th>...</th>\n",
              "      <td>...</td>\n",
              "      <td>...</td>\n",
              "      <td>...</td>\n",
              "      <td>...</td>\n",
              "      <td>...</td>\n",
              "      <td>...</td>\n",
              "      <td>...</td>\n",
              "      <td>...</td>\n",
              "      <td>...</td>\n",
              "      <td>...</td>\n",
              "      <td>...</td>\n",
              "    </tr>\n",
              "    <tr>\n",
              "      <th>130056</th>\n",
              "      <td>tote</td>\n",
              "      <td>205</td>\n",
              "      <td>(01)00850027865010(21)0082T1137</td>\n",
              "      <td>Store</td>\n",
              "      <td>store_front_Store</td>\n",
              "      <td>26AB1C9A2E41</td>\n",
              "      <td>2022-08-04 12:48:51.273</td>\n",
              "      <td>47.74923</td>\n",
              "      <td>-65.64101</td>\n",
              "      <td>23.1</td>\n",
              "      <td>73.58</td>\n",
              "    </tr>\n",
              "    <tr>\n",
              "      <th>130057</th>\n",
              "      <td>tote</td>\n",
              "      <td>205</td>\n",
              "      <td>(01)00850027865010(21)0082T1137</td>\n",
              "      <td>Store</td>\n",
              "      <td>store_front_Store</td>\n",
              "      <td>26AB1C9A2E41</td>\n",
              "      <td>2022-08-04 12:49:58.699</td>\n",
              "      <td>47.74923</td>\n",
              "      <td>-65.64101</td>\n",
              "      <td>23.5</td>\n",
              "      <td>74.30</td>\n",
              "    </tr>\n",
              "    <tr>\n",
              "      <th>130058</th>\n",
              "      <td>tote</td>\n",
              "      <td>205</td>\n",
              "      <td>(01)00850027865010(21)0082T1137</td>\n",
              "      <td>Store</td>\n",
              "      <td>store_front_Store</td>\n",
              "      <td>26AB1C9A2E41</td>\n",
              "      <td>2022-08-04 12:52:45.173</td>\n",
              "      <td>47.74923</td>\n",
              "      <td>-65.64101</td>\n",
              "      <td>23.0</td>\n",
              "      <td>73.40</td>\n",
              "    </tr>\n",
              "    <tr>\n",
              "      <th>130059</th>\n",
              "      <td>tote</td>\n",
              "      <td>205</td>\n",
              "      <td>(01)00850027865010(21)0082T1137</td>\n",
              "      <td>Store</td>\n",
              "      <td>store_front_Store</td>\n",
              "      <td>26AB1C9A2E41</td>\n",
              "      <td>2022-08-04 12:53:48.228</td>\n",
              "      <td>47.74923</td>\n",
              "      <td>-65.64101</td>\n",
              "      <td>23.0</td>\n",
              "      <td>73.40</td>\n",
              "    </tr>\n",
              "    <tr>\n",
              "      <th>130060</th>\n",
              "      <td>tote</td>\n",
              "      <td>205</td>\n",
              "      <td>(01)00850027865010(21)0082T1137</td>\n",
              "      <td>Store</td>\n",
              "      <td>store_front_Store</td>\n",
              "      <td>26AB1C9A2E41</td>\n",
              "      <td>2022-08-04 16:33:25.525</td>\n",
              "      <td>47.74923</td>\n",
              "      <td>-65.64101</td>\n",
              "      <td>24.0</td>\n",
              "      <td>75.20</td>\n",
              "    </tr>\n",
              "  </tbody>\n",
              "</table>\n",
              "<p>130061 rows × 11 columns</p>\n",
              "</div>\n",
              "    <div class=\"colab-df-buttons\">\n",
              "\n",
              "  <div class=\"colab-df-container\">\n",
              "    <button class=\"colab-df-convert\" onclick=\"convertToInteractive('df-6bba9150-ba5d-4a89-924f-398646a613d7')\"\n",
              "            title=\"Convert this dataframe to an interactive table.\"\n",
              "            style=\"display:none;\">\n",
              "\n",
              "  <svg xmlns=\"http://www.w3.org/2000/svg\" height=\"24px\" viewBox=\"0 -960 960 960\">\n",
              "    <path d=\"M120-120v-720h720v720H120Zm60-500h600v-160H180v160Zm220 220h160v-160H400v160Zm0 220h160v-160H400v160ZM180-400h160v-160H180v160Zm440 0h160v-160H620v160ZM180-180h160v-160H180v160Zm440 0h160v-160H620v160Z\"/>\n",
              "  </svg>\n",
              "    </button>\n",
              "\n",
              "  <style>\n",
              "    .colab-df-container {\n",
              "      display:flex;\n",
              "      gap: 12px;\n",
              "    }\n",
              "\n",
              "    .colab-df-convert {\n",
              "      background-color: #E8F0FE;\n",
              "      border: none;\n",
              "      border-radius: 50%;\n",
              "      cursor: pointer;\n",
              "      display: none;\n",
              "      fill: #1967D2;\n",
              "      height: 32px;\n",
              "      padding: 0 0 0 0;\n",
              "      width: 32px;\n",
              "    }\n",
              "\n",
              "    .colab-df-convert:hover {\n",
              "      background-color: #E2EBFA;\n",
              "      box-shadow: 0px 1px 2px rgba(60, 64, 67, 0.3), 0px 1px 3px 1px rgba(60, 64, 67, 0.15);\n",
              "      fill: #174EA6;\n",
              "    }\n",
              "\n",
              "    .colab-df-buttons div {\n",
              "      margin-bottom: 4px;\n",
              "    }\n",
              "\n",
              "    [theme=dark] .colab-df-convert {\n",
              "      background-color: #3B4455;\n",
              "      fill: #D2E3FC;\n",
              "    }\n",
              "\n",
              "    [theme=dark] .colab-df-convert:hover {\n",
              "      background-color: #434B5C;\n",
              "      box-shadow: 0px 1px 3px 1px rgba(0, 0, 0, 0.15);\n",
              "      filter: drop-shadow(0px 1px 2px rgba(0, 0, 0, 0.3));\n",
              "      fill: #FFFFFF;\n",
              "    }\n",
              "  </style>\n",
              "\n",
              "    <script>\n",
              "      const buttonEl =\n",
              "        document.querySelector('#df-6bba9150-ba5d-4a89-924f-398646a613d7 button.colab-df-convert');\n",
              "      buttonEl.style.display =\n",
              "        google.colab.kernel.accessAllowed ? 'block' : 'none';\n",
              "\n",
              "      async function convertToInteractive(key) {\n",
              "        const element = document.querySelector('#df-6bba9150-ba5d-4a89-924f-398646a613d7');\n",
              "        const dataTable =\n",
              "          await google.colab.kernel.invokeFunction('convertToInteractive',\n",
              "                                                    [key], {});\n",
              "        if (!dataTable) return;\n",
              "\n",
              "        const docLinkHtml = 'Like what you see? Visit the ' +\n",
              "          '<a target=\"_blank\" href=https://colab.research.google.com/notebooks/data_table.ipynb>data table notebook</a>'\n",
              "          + ' to learn more about interactive tables.';\n",
              "        element.innerHTML = '';\n",
              "        dataTable['output_type'] = 'display_data';\n",
              "        await google.colab.output.renderOutput(dataTable, element);\n",
              "        const docLink = document.createElement('div');\n",
              "        docLink.innerHTML = docLinkHtml;\n",
              "        element.appendChild(docLink);\n",
              "      }\n",
              "    </script>\n",
              "  </div>\n",
              "\n",
              "\n",
              "<div id=\"df-40a87be9-3862-4f84-8ebb-ff1018787fac\">\n",
              "  <button class=\"colab-df-quickchart\" onclick=\"quickchart('df-40a87be9-3862-4f84-8ebb-ff1018787fac')\"\n",
              "            title=\"Suggest charts\"\n",
              "            style=\"display:none;\">\n",
              "\n",
              "<svg xmlns=\"http://www.w3.org/2000/svg\" height=\"24px\"viewBox=\"0 0 24 24\"\n",
              "     width=\"24px\">\n",
              "    <g>\n",
              "        <path d=\"M19 3H5c-1.1 0-2 .9-2 2v14c0 1.1.9 2 2 2h14c1.1 0 2-.9 2-2V5c0-1.1-.9-2-2-2zM9 17H7v-7h2v7zm4 0h-2V7h2v10zm4 0h-2v-4h2v4z\"/>\n",
              "    </g>\n",
              "</svg>\n",
              "  </button>\n",
              "\n",
              "<style>\n",
              "  .colab-df-quickchart {\n",
              "      --bg-color: #E8F0FE;\n",
              "      --fill-color: #1967D2;\n",
              "      --hover-bg-color: #E2EBFA;\n",
              "      --hover-fill-color: #174EA6;\n",
              "      --disabled-fill-color: #AAA;\n",
              "      --disabled-bg-color: #DDD;\n",
              "  }\n",
              "\n",
              "  [theme=dark] .colab-df-quickchart {\n",
              "      --bg-color: #3B4455;\n",
              "      --fill-color: #D2E3FC;\n",
              "      --hover-bg-color: #434B5C;\n",
              "      --hover-fill-color: #FFFFFF;\n",
              "      --disabled-bg-color: #3B4455;\n",
              "      --disabled-fill-color: #666;\n",
              "  }\n",
              "\n",
              "  .colab-df-quickchart {\n",
              "    background-color: var(--bg-color);\n",
              "    border: none;\n",
              "    border-radius: 50%;\n",
              "    cursor: pointer;\n",
              "    display: none;\n",
              "    fill: var(--fill-color);\n",
              "    height: 32px;\n",
              "    padding: 0;\n",
              "    width: 32px;\n",
              "  }\n",
              "\n",
              "  .colab-df-quickchart:hover {\n",
              "    background-color: var(--hover-bg-color);\n",
              "    box-shadow: 0 1px 2px rgba(60, 64, 67, 0.3), 0 1px 3px 1px rgba(60, 64, 67, 0.15);\n",
              "    fill: var(--button-hover-fill-color);\n",
              "  }\n",
              "\n",
              "  .colab-df-quickchart-complete:disabled,\n",
              "  .colab-df-quickchart-complete:disabled:hover {\n",
              "    background-color: var(--disabled-bg-color);\n",
              "    fill: var(--disabled-fill-color);\n",
              "    box-shadow: none;\n",
              "  }\n",
              "\n",
              "  .colab-df-spinner {\n",
              "    border: 2px solid var(--fill-color);\n",
              "    border-color: transparent;\n",
              "    border-bottom-color: var(--fill-color);\n",
              "    animation:\n",
              "      spin 1s steps(1) infinite;\n",
              "  }\n",
              "\n",
              "  @keyframes spin {\n",
              "    0% {\n",
              "      border-color: transparent;\n",
              "      border-bottom-color: var(--fill-color);\n",
              "      border-left-color: var(--fill-color);\n",
              "    }\n",
              "    20% {\n",
              "      border-color: transparent;\n",
              "      border-left-color: var(--fill-color);\n",
              "      border-top-color: var(--fill-color);\n",
              "    }\n",
              "    30% {\n",
              "      border-color: transparent;\n",
              "      border-left-color: var(--fill-color);\n",
              "      border-top-color: var(--fill-color);\n",
              "      border-right-color: var(--fill-color);\n",
              "    }\n",
              "    40% {\n",
              "      border-color: transparent;\n",
              "      border-right-color: var(--fill-color);\n",
              "      border-top-color: var(--fill-color);\n",
              "    }\n",
              "    60% {\n",
              "      border-color: transparent;\n",
              "      border-right-color: var(--fill-color);\n",
              "    }\n",
              "    80% {\n",
              "      border-color: transparent;\n",
              "      border-right-color: var(--fill-color);\n",
              "      border-bottom-color: var(--fill-color);\n",
              "    }\n",
              "    90% {\n",
              "      border-color: transparent;\n",
              "      border-bottom-color: var(--fill-color);\n",
              "    }\n",
              "  }\n",
              "</style>\n",
              "\n",
              "  <script>\n",
              "    async function quickchart(key) {\n",
              "      const quickchartButtonEl =\n",
              "        document.querySelector('#' + key + ' button');\n",
              "      quickchartButtonEl.disabled = true;  // To prevent multiple clicks.\n",
              "      quickchartButtonEl.classList.add('colab-df-spinner');\n",
              "      try {\n",
              "        const charts = await google.colab.kernel.invokeFunction(\n",
              "            'suggestCharts', [key], {});\n",
              "      } catch (error) {\n",
              "        console.error('Error during call to suggestCharts:', error);\n",
              "      }\n",
              "      quickchartButtonEl.classList.remove('colab-df-spinner');\n",
              "      quickchartButtonEl.classList.add('colab-df-quickchart-complete');\n",
              "    }\n",
              "    (() => {\n",
              "      let quickchartButtonEl =\n",
              "        document.querySelector('#df-40a87be9-3862-4f84-8ebb-ff1018787fac button');\n",
              "      quickchartButtonEl.style.display =\n",
              "        google.colab.kernel.accessAllowed ? 'block' : 'none';\n",
              "    })();\n",
              "  </script>\n",
              "</div>\n",
              "\n",
              "  <div id=\"id_f300c481-91f6-451f-82b7-ddaf27065e30\">\n",
              "    <style>\n",
              "      .colab-df-generate {\n",
              "        background-color: #E8F0FE;\n",
              "        border: none;\n",
              "        border-radius: 50%;\n",
              "        cursor: pointer;\n",
              "        display: none;\n",
              "        fill: #1967D2;\n",
              "        height: 32px;\n",
              "        padding: 0 0 0 0;\n",
              "        width: 32px;\n",
              "      }\n",
              "\n",
              "      .colab-df-generate:hover {\n",
              "        background-color: #E2EBFA;\n",
              "        box-shadow: 0px 1px 2px rgba(60, 64, 67, 0.3), 0px 1px 3px 1px rgba(60, 64, 67, 0.15);\n",
              "        fill: #174EA6;\n",
              "      }\n",
              "\n",
              "      [theme=dark] .colab-df-generate {\n",
              "        background-color: #3B4455;\n",
              "        fill: #D2E3FC;\n",
              "      }\n",
              "\n",
              "      [theme=dark] .colab-df-generate:hover {\n",
              "        background-color: #434B5C;\n",
              "        box-shadow: 0px 1px 3px 1px rgba(0, 0, 0, 0.15);\n",
              "        filter: drop-shadow(0px 1px 2px rgba(0, 0, 0, 0.3));\n",
              "        fill: #FFFFFF;\n",
              "      }\n",
              "    </style>\n",
              "    <button class=\"colab-df-generate\" onclick=\"generateWithVariable('df')\"\n",
              "            title=\"Generate code using this dataframe.\"\n",
              "            style=\"display:none;\">\n",
              "\n",
              "  <svg xmlns=\"http://www.w3.org/2000/svg\" height=\"24px\"viewBox=\"0 0 24 24\"\n",
              "       width=\"24px\">\n",
              "    <path d=\"M7,19H8.4L18.45,9,17,7.55,7,17.6ZM5,21V16.75L18.45,3.32a2,2,0,0,1,2.83,0l1.4,1.43a1.91,1.91,0,0,1,.58,1.4,1.91,1.91,0,0,1-.58,1.4L9.25,21ZM18.45,9,17,7.55Zm-12,3A5.31,5.31,0,0,0,4.9,8.1,5.31,5.31,0,0,0,1,6.5,5.31,5.31,0,0,0,4.9,4.9,5.31,5.31,0,0,0,6.5,1,5.31,5.31,0,0,0,8.1,4.9,5.31,5.31,0,0,0,12,6.5,5.46,5.46,0,0,0,6.5,12Z\"/>\n",
              "  </svg>\n",
              "    </button>\n",
              "    <script>\n",
              "      (() => {\n",
              "      const buttonEl =\n",
              "        document.querySelector('#id_f300c481-91f6-451f-82b7-ddaf27065e30 button.colab-df-generate');\n",
              "      buttonEl.style.display =\n",
              "        google.colab.kernel.accessAllowed ? 'block' : 'none';\n",
              "\n",
              "      buttonEl.onclick = () => {\n",
              "        google.colab.notebook.generateWithVariable('df');\n",
              "      }\n",
              "      })();\n",
              "    </script>\n",
              "  </div>\n",
              "\n",
              "    </div>\n",
              "  </div>\n"
            ],
            "application/vnd.google.colaboratory.intrinsic+json": {
              "type": "dataframe",
              "variable_name": "df"
            }
          },
          "metadata": {},
          "execution_count": 5
        }
      ]
    },
    {
      "cell_type": "code",
      "source": [
        "## Add date and hour from time_est\n",
        "df['date'] = pd.to_datetime(df['time_est']).dt.date\n",
        "df['hour'] = pd.to_datetime(df['time_est']).dt.hour\n",
        "\n",
        "df"
      ],
      "metadata": {
        "id": "6TI5-8_u9-4C",
        "outputId": "7fa5bb42-eb6d-42d7-a056-c05f32cba812",
        "colab": {
          "base_uri": "https://localhost:8080/",
          "height": 597
        }
      },
      "execution_count": 6,
      "outputs": [
        {
          "output_type": "execute_result",
          "data": {
            "text/plain": [
              "       asset_type  asset_id                           tag_id   Site  \\\n",
              "0            tote         2  (01)00850027865010(21)0082T0219   DC 1   \n",
              "1            tote         2  (01)00850027865010(21)0082T0219   DC 1   \n",
              "2            tote         2  (01)00850027865010(21)0082T0219   DC 1   \n",
              "3            tote         2  (01)00850027865010(21)0082T0219   DC 1   \n",
              "4            tote         2  (01)00850027865010(21)0082T0670   DC 1   \n",
              "...           ...       ...                              ...    ...   \n",
              "130056       tote       205  (01)00850027865010(21)0082T1137  Store   \n",
              "130057       tote       205  (01)00850027865010(21)0082T1137  Store   \n",
              "130058       tote       205  (01)00850027865010(21)0082T1137  Store   \n",
              "130059       tote       205  (01)00850027865010(21)0082T1137  Store   \n",
              "130060       tote       205  (01)00850027865010(21)0082T1137  Store   \n",
              "\n",
              "                     Zone     device_id                time_est       lat  \\\n",
              "0          dock_doors_DC1  7F9A8353E973 2022-08-02 11:59:26.628  47.79158   \n",
              "1          dock_doors_DC1  EC5B0499234F 2022-08-02 12:00:22.660  47.79158   \n",
              "2          dock_doors_DC1  7F9A8353E973 2022-08-02 12:01:11.234  47.79158   \n",
              "3          dock_doors_DC1  3D8B2BDB8673 2022-08-02 13:47:58.172  47.79158   \n",
              "4          dock_doors_DC1  7F9A8353E973 2022-08-02 11:58:55.049  47.79158   \n",
              "...                   ...           ...                     ...       ...   \n",
              "130056  store_front_Store  26AB1C9A2E41 2022-08-04 12:48:51.273  47.74923   \n",
              "130057  store_front_Store  26AB1C9A2E41 2022-08-04 12:49:58.699  47.74923   \n",
              "130058  store_front_Store  26AB1C9A2E41 2022-08-04 12:52:45.173  47.74923   \n",
              "130059  store_front_Store  26AB1C9A2E41 2022-08-04 12:53:48.228  47.74923   \n",
              "130060  store_front_Store  26AB1C9A2E41 2022-08-04 16:33:25.525  47.74923   \n",
              "\n",
              "             lng  Temperature_C  Temperature_F        date  hour  \n",
              "0      -65.68902           23.0          73.40  2022-08-02    11  \n",
              "1      -65.68902           23.0          73.40  2022-08-02    12  \n",
              "2      -65.68902           23.0          73.40  2022-08-02    12  \n",
              "3      -65.68902           23.5          74.30  2022-08-02    13  \n",
              "4      -65.68902           23.0          73.40  2022-08-02    11  \n",
              "...          ...            ...            ...         ...   ...  \n",
              "130056 -65.64101           23.1          73.58  2022-08-04    12  \n",
              "130057 -65.64101           23.5          74.30  2022-08-04    12  \n",
              "130058 -65.64101           23.0          73.40  2022-08-04    12  \n",
              "130059 -65.64101           23.0          73.40  2022-08-04    12  \n",
              "130060 -65.64101           24.0          75.20  2022-08-04    16  \n",
              "\n",
              "[130061 rows x 13 columns]"
            ],
            "text/html": [
              "\n",
              "  <div id=\"df-1339469f-21d9-4500-ab4b-1425e699795e\" class=\"colab-df-container\">\n",
              "    <div>\n",
              "<style scoped>\n",
              "    .dataframe tbody tr th:only-of-type {\n",
              "        vertical-align: middle;\n",
              "    }\n",
              "\n",
              "    .dataframe tbody tr th {\n",
              "        vertical-align: top;\n",
              "    }\n",
              "\n",
              "    .dataframe thead th {\n",
              "        text-align: right;\n",
              "    }\n",
              "</style>\n",
              "<table border=\"1\" class=\"dataframe\">\n",
              "  <thead>\n",
              "    <tr style=\"text-align: right;\">\n",
              "      <th></th>\n",
              "      <th>asset_type</th>\n",
              "      <th>asset_id</th>\n",
              "      <th>tag_id</th>\n",
              "      <th>Site</th>\n",
              "      <th>Zone</th>\n",
              "      <th>device_id</th>\n",
              "      <th>time_est</th>\n",
              "      <th>lat</th>\n",
              "      <th>lng</th>\n",
              "      <th>Temperature_C</th>\n",
              "      <th>Temperature_F</th>\n",
              "      <th>date</th>\n",
              "      <th>hour</th>\n",
              "    </tr>\n",
              "  </thead>\n",
              "  <tbody>\n",
              "    <tr>\n",
              "      <th>0</th>\n",
              "      <td>tote</td>\n",
              "      <td>2</td>\n",
              "      <td>(01)00850027865010(21)0082T0219</td>\n",
              "      <td>DC 1</td>\n",
              "      <td>dock_doors_DC1</td>\n",
              "      <td>7F9A8353E973</td>\n",
              "      <td>2022-08-02 11:59:26.628</td>\n",
              "      <td>47.79158</td>\n",
              "      <td>-65.68902</td>\n",
              "      <td>23.0</td>\n",
              "      <td>73.40</td>\n",
              "      <td>2022-08-02</td>\n",
              "      <td>11</td>\n",
              "    </tr>\n",
              "    <tr>\n",
              "      <th>1</th>\n",
              "      <td>tote</td>\n",
              "      <td>2</td>\n",
              "      <td>(01)00850027865010(21)0082T0219</td>\n",
              "      <td>DC 1</td>\n",
              "      <td>dock_doors_DC1</td>\n",
              "      <td>EC5B0499234F</td>\n",
              "      <td>2022-08-02 12:00:22.660</td>\n",
              "      <td>47.79158</td>\n",
              "      <td>-65.68902</td>\n",
              "      <td>23.0</td>\n",
              "      <td>73.40</td>\n",
              "      <td>2022-08-02</td>\n",
              "      <td>12</td>\n",
              "    </tr>\n",
              "    <tr>\n",
              "      <th>2</th>\n",
              "      <td>tote</td>\n",
              "      <td>2</td>\n",
              "      <td>(01)00850027865010(21)0082T0219</td>\n",
              "      <td>DC 1</td>\n",
              "      <td>dock_doors_DC1</td>\n",
              "      <td>7F9A8353E973</td>\n",
              "      <td>2022-08-02 12:01:11.234</td>\n",
              "      <td>47.79158</td>\n",
              "      <td>-65.68902</td>\n",
              "      <td>23.0</td>\n",
              "      <td>73.40</td>\n",
              "      <td>2022-08-02</td>\n",
              "      <td>12</td>\n",
              "    </tr>\n",
              "    <tr>\n",
              "      <th>3</th>\n",
              "      <td>tote</td>\n",
              "      <td>2</td>\n",
              "      <td>(01)00850027865010(21)0082T0219</td>\n",
              "      <td>DC 1</td>\n",
              "      <td>dock_doors_DC1</td>\n",
              "      <td>3D8B2BDB8673</td>\n",
              "      <td>2022-08-02 13:47:58.172</td>\n",
              "      <td>47.79158</td>\n",
              "      <td>-65.68902</td>\n",
              "      <td>23.5</td>\n",
              "      <td>74.30</td>\n",
              "      <td>2022-08-02</td>\n",
              "      <td>13</td>\n",
              "    </tr>\n",
              "    <tr>\n",
              "      <th>4</th>\n",
              "      <td>tote</td>\n",
              "      <td>2</td>\n",
              "      <td>(01)00850027865010(21)0082T0670</td>\n",
              "      <td>DC 1</td>\n",
              "      <td>dock_doors_DC1</td>\n",
              "      <td>7F9A8353E973</td>\n",
              "      <td>2022-08-02 11:58:55.049</td>\n",
              "      <td>47.79158</td>\n",
              "      <td>-65.68902</td>\n",
              "      <td>23.0</td>\n",
              "      <td>73.40</td>\n",
              "      <td>2022-08-02</td>\n",
              "      <td>11</td>\n",
              "    </tr>\n",
              "    <tr>\n",
              "      <th>...</th>\n",
              "      <td>...</td>\n",
              "      <td>...</td>\n",
              "      <td>...</td>\n",
              "      <td>...</td>\n",
              "      <td>...</td>\n",
              "      <td>...</td>\n",
              "      <td>...</td>\n",
              "      <td>...</td>\n",
              "      <td>...</td>\n",
              "      <td>...</td>\n",
              "      <td>...</td>\n",
              "      <td>...</td>\n",
              "      <td>...</td>\n",
              "    </tr>\n",
              "    <tr>\n",
              "      <th>130056</th>\n",
              "      <td>tote</td>\n",
              "      <td>205</td>\n",
              "      <td>(01)00850027865010(21)0082T1137</td>\n",
              "      <td>Store</td>\n",
              "      <td>store_front_Store</td>\n",
              "      <td>26AB1C9A2E41</td>\n",
              "      <td>2022-08-04 12:48:51.273</td>\n",
              "      <td>47.74923</td>\n",
              "      <td>-65.64101</td>\n",
              "      <td>23.1</td>\n",
              "      <td>73.58</td>\n",
              "      <td>2022-08-04</td>\n",
              "      <td>12</td>\n",
              "    </tr>\n",
              "    <tr>\n",
              "      <th>130057</th>\n",
              "      <td>tote</td>\n",
              "      <td>205</td>\n",
              "      <td>(01)00850027865010(21)0082T1137</td>\n",
              "      <td>Store</td>\n",
              "      <td>store_front_Store</td>\n",
              "      <td>26AB1C9A2E41</td>\n",
              "      <td>2022-08-04 12:49:58.699</td>\n",
              "      <td>47.74923</td>\n",
              "      <td>-65.64101</td>\n",
              "      <td>23.5</td>\n",
              "      <td>74.30</td>\n",
              "      <td>2022-08-04</td>\n",
              "      <td>12</td>\n",
              "    </tr>\n",
              "    <tr>\n",
              "      <th>130058</th>\n",
              "      <td>tote</td>\n",
              "      <td>205</td>\n",
              "      <td>(01)00850027865010(21)0082T1137</td>\n",
              "      <td>Store</td>\n",
              "      <td>store_front_Store</td>\n",
              "      <td>26AB1C9A2E41</td>\n",
              "      <td>2022-08-04 12:52:45.173</td>\n",
              "      <td>47.74923</td>\n",
              "      <td>-65.64101</td>\n",
              "      <td>23.0</td>\n",
              "      <td>73.40</td>\n",
              "      <td>2022-08-04</td>\n",
              "      <td>12</td>\n",
              "    </tr>\n",
              "    <tr>\n",
              "      <th>130059</th>\n",
              "      <td>tote</td>\n",
              "      <td>205</td>\n",
              "      <td>(01)00850027865010(21)0082T1137</td>\n",
              "      <td>Store</td>\n",
              "      <td>store_front_Store</td>\n",
              "      <td>26AB1C9A2E41</td>\n",
              "      <td>2022-08-04 12:53:48.228</td>\n",
              "      <td>47.74923</td>\n",
              "      <td>-65.64101</td>\n",
              "      <td>23.0</td>\n",
              "      <td>73.40</td>\n",
              "      <td>2022-08-04</td>\n",
              "      <td>12</td>\n",
              "    </tr>\n",
              "    <tr>\n",
              "      <th>130060</th>\n",
              "      <td>tote</td>\n",
              "      <td>205</td>\n",
              "      <td>(01)00850027865010(21)0082T1137</td>\n",
              "      <td>Store</td>\n",
              "      <td>store_front_Store</td>\n",
              "      <td>26AB1C9A2E41</td>\n",
              "      <td>2022-08-04 16:33:25.525</td>\n",
              "      <td>47.74923</td>\n",
              "      <td>-65.64101</td>\n",
              "      <td>24.0</td>\n",
              "      <td>75.20</td>\n",
              "      <td>2022-08-04</td>\n",
              "      <td>16</td>\n",
              "    </tr>\n",
              "  </tbody>\n",
              "</table>\n",
              "<p>130061 rows × 13 columns</p>\n",
              "</div>\n",
              "    <div class=\"colab-df-buttons\">\n",
              "\n",
              "  <div class=\"colab-df-container\">\n",
              "    <button class=\"colab-df-convert\" onclick=\"convertToInteractive('df-1339469f-21d9-4500-ab4b-1425e699795e')\"\n",
              "            title=\"Convert this dataframe to an interactive table.\"\n",
              "            style=\"display:none;\">\n",
              "\n",
              "  <svg xmlns=\"http://www.w3.org/2000/svg\" height=\"24px\" viewBox=\"0 -960 960 960\">\n",
              "    <path d=\"M120-120v-720h720v720H120Zm60-500h600v-160H180v160Zm220 220h160v-160H400v160Zm0 220h160v-160H400v160ZM180-400h160v-160H180v160Zm440 0h160v-160H620v160ZM180-180h160v-160H180v160Zm440 0h160v-160H620v160Z\"/>\n",
              "  </svg>\n",
              "    </button>\n",
              "\n",
              "  <style>\n",
              "    .colab-df-container {\n",
              "      display:flex;\n",
              "      gap: 12px;\n",
              "    }\n",
              "\n",
              "    .colab-df-convert {\n",
              "      background-color: #E8F0FE;\n",
              "      border: none;\n",
              "      border-radius: 50%;\n",
              "      cursor: pointer;\n",
              "      display: none;\n",
              "      fill: #1967D2;\n",
              "      height: 32px;\n",
              "      padding: 0 0 0 0;\n",
              "      width: 32px;\n",
              "    }\n",
              "\n",
              "    .colab-df-convert:hover {\n",
              "      background-color: #E2EBFA;\n",
              "      box-shadow: 0px 1px 2px rgba(60, 64, 67, 0.3), 0px 1px 3px 1px rgba(60, 64, 67, 0.15);\n",
              "      fill: #174EA6;\n",
              "    }\n",
              "\n",
              "    .colab-df-buttons div {\n",
              "      margin-bottom: 4px;\n",
              "    }\n",
              "\n",
              "    [theme=dark] .colab-df-convert {\n",
              "      background-color: #3B4455;\n",
              "      fill: #D2E3FC;\n",
              "    }\n",
              "\n",
              "    [theme=dark] .colab-df-convert:hover {\n",
              "      background-color: #434B5C;\n",
              "      box-shadow: 0px 1px 3px 1px rgba(0, 0, 0, 0.15);\n",
              "      filter: drop-shadow(0px 1px 2px rgba(0, 0, 0, 0.3));\n",
              "      fill: #FFFFFF;\n",
              "    }\n",
              "  </style>\n",
              "\n",
              "    <script>\n",
              "      const buttonEl =\n",
              "        document.querySelector('#df-1339469f-21d9-4500-ab4b-1425e699795e button.colab-df-convert');\n",
              "      buttonEl.style.display =\n",
              "        google.colab.kernel.accessAllowed ? 'block' : 'none';\n",
              "\n",
              "      async function convertToInteractive(key) {\n",
              "        const element = document.querySelector('#df-1339469f-21d9-4500-ab4b-1425e699795e');\n",
              "        const dataTable =\n",
              "          await google.colab.kernel.invokeFunction('convertToInteractive',\n",
              "                                                    [key], {});\n",
              "        if (!dataTable) return;\n",
              "\n",
              "        const docLinkHtml = 'Like what you see? Visit the ' +\n",
              "          '<a target=\"_blank\" href=https://colab.research.google.com/notebooks/data_table.ipynb>data table notebook</a>'\n",
              "          + ' to learn more about interactive tables.';\n",
              "        element.innerHTML = '';\n",
              "        dataTable['output_type'] = 'display_data';\n",
              "        await google.colab.output.renderOutput(dataTable, element);\n",
              "        const docLink = document.createElement('div');\n",
              "        docLink.innerHTML = docLinkHtml;\n",
              "        element.appendChild(docLink);\n",
              "      }\n",
              "    </script>\n",
              "  </div>\n",
              "\n",
              "\n",
              "<div id=\"df-eb8dc2fa-d64a-4766-b4ac-03be0452d33a\">\n",
              "  <button class=\"colab-df-quickchart\" onclick=\"quickchart('df-eb8dc2fa-d64a-4766-b4ac-03be0452d33a')\"\n",
              "            title=\"Suggest charts\"\n",
              "            style=\"display:none;\">\n",
              "\n",
              "<svg xmlns=\"http://www.w3.org/2000/svg\" height=\"24px\"viewBox=\"0 0 24 24\"\n",
              "     width=\"24px\">\n",
              "    <g>\n",
              "        <path d=\"M19 3H5c-1.1 0-2 .9-2 2v14c0 1.1.9 2 2 2h14c1.1 0 2-.9 2-2V5c0-1.1-.9-2-2-2zM9 17H7v-7h2v7zm4 0h-2V7h2v10zm4 0h-2v-4h2v4z\"/>\n",
              "    </g>\n",
              "</svg>\n",
              "  </button>\n",
              "\n",
              "<style>\n",
              "  .colab-df-quickchart {\n",
              "      --bg-color: #E8F0FE;\n",
              "      --fill-color: #1967D2;\n",
              "      --hover-bg-color: #E2EBFA;\n",
              "      --hover-fill-color: #174EA6;\n",
              "      --disabled-fill-color: #AAA;\n",
              "      --disabled-bg-color: #DDD;\n",
              "  }\n",
              "\n",
              "  [theme=dark] .colab-df-quickchart {\n",
              "      --bg-color: #3B4455;\n",
              "      --fill-color: #D2E3FC;\n",
              "      --hover-bg-color: #434B5C;\n",
              "      --hover-fill-color: #FFFFFF;\n",
              "      --disabled-bg-color: #3B4455;\n",
              "      --disabled-fill-color: #666;\n",
              "  }\n",
              "\n",
              "  .colab-df-quickchart {\n",
              "    background-color: var(--bg-color);\n",
              "    border: none;\n",
              "    border-radius: 50%;\n",
              "    cursor: pointer;\n",
              "    display: none;\n",
              "    fill: var(--fill-color);\n",
              "    height: 32px;\n",
              "    padding: 0;\n",
              "    width: 32px;\n",
              "  }\n",
              "\n",
              "  .colab-df-quickchart:hover {\n",
              "    background-color: var(--hover-bg-color);\n",
              "    box-shadow: 0 1px 2px rgba(60, 64, 67, 0.3), 0 1px 3px 1px rgba(60, 64, 67, 0.15);\n",
              "    fill: var(--button-hover-fill-color);\n",
              "  }\n",
              "\n",
              "  .colab-df-quickchart-complete:disabled,\n",
              "  .colab-df-quickchart-complete:disabled:hover {\n",
              "    background-color: var(--disabled-bg-color);\n",
              "    fill: var(--disabled-fill-color);\n",
              "    box-shadow: none;\n",
              "  }\n",
              "\n",
              "  .colab-df-spinner {\n",
              "    border: 2px solid var(--fill-color);\n",
              "    border-color: transparent;\n",
              "    border-bottom-color: var(--fill-color);\n",
              "    animation:\n",
              "      spin 1s steps(1) infinite;\n",
              "  }\n",
              "\n",
              "  @keyframes spin {\n",
              "    0% {\n",
              "      border-color: transparent;\n",
              "      border-bottom-color: var(--fill-color);\n",
              "      border-left-color: var(--fill-color);\n",
              "    }\n",
              "    20% {\n",
              "      border-color: transparent;\n",
              "      border-left-color: var(--fill-color);\n",
              "      border-top-color: var(--fill-color);\n",
              "    }\n",
              "    30% {\n",
              "      border-color: transparent;\n",
              "      border-left-color: var(--fill-color);\n",
              "      border-top-color: var(--fill-color);\n",
              "      border-right-color: var(--fill-color);\n",
              "    }\n",
              "    40% {\n",
              "      border-color: transparent;\n",
              "      border-right-color: var(--fill-color);\n",
              "      border-top-color: var(--fill-color);\n",
              "    }\n",
              "    60% {\n",
              "      border-color: transparent;\n",
              "      border-right-color: var(--fill-color);\n",
              "    }\n",
              "    80% {\n",
              "      border-color: transparent;\n",
              "      border-right-color: var(--fill-color);\n",
              "      border-bottom-color: var(--fill-color);\n",
              "    }\n",
              "    90% {\n",
              "      border-color: transparent;\n",
              "      border-bottom-color: var(--fill-color);\n",
              "    }\n",
              "  }\n",
              "</style>\n",
              "\n",
              "  <script>\n",
              "    async function quickchart(key) {\n",
              "      const quickchartButtonEl =\n",
              "        document.querySelector('#' + key + ' button');\n",
              "      quickchartButtonEl.disabled = true;  // To prevent multiple clicks.\n",
              "      quickchartButtonEl.classList.add('colab-df-spinner');\n",
              "      try {\n",
              "        const charts = await google.colab.kernel.invokeFunction(\n",
              "            'suggestCharts', [key], {});\n",
              "      } catch (error) {\n",
              "        console.error('Error during call to suggestCharts:', error);\n",
              "      }\n",
              "      quickchartButtonEl.classList.remove('colab-df-spinner');\n",
              "      quickchartButtonEl.classList.add('colab-df-quickchart-complete');\n",
              "    }\n",
              "    (() => {\n",
              "      let quickchartButtonEl =\n",
              "        document.querySelector('#df-eb8dc2fa-d64a-4766-b4ac-03be0452d33a button');\n",
              "      quickchartButtonEl.style.display =\n",
              "        google.colab.kernel.accessAllowed ? 'block' : 'none';\n",
              "    })();\n",
              "  </script>\n",
              "</div>\n",
              "\n",
              "  <div id=\"id_51cbceb4-9a64-4ddb-b149-f548173d86ce\">\n",
              "    <style>\n",
              "      .colab-df-generate {\n",
              "        background-color: #E8F0FE;\n",
              "        border: none;\n",
              "        border-radius: 50%;\n",
              "        cursor: pointer;\n",
              "        display: none;\n",
              "        fill: #1967D2;\n",
              "        height: 32px;\n",
              "        padding: 0 0 0 0;\n",
              "        width: 32px;\n",
              "      }\n",
              "\n",
              "      .colab-df-generate:hover {\n",
              "        background-color: #E2EBFA;\n",
              "        box-shadow: 0px 1px 2px rgba(60, 64, 67, 0.3), 0px 1px 3px 1px rgba(60, 64, 67, 0.15);\n",
              "        fill: #174EA6;\n",
              "      }\n",
              "\n",
              "      [theme=dark] .colab-df-generate {\n",
              "        background-color: #3B4455;\n",
              "        fill: #D2E3FC;\n",
              "      }\n",
              "\n",
              "      [theme=dark] .colab-df-generate:hover {\n",
              "        background-color: #434B5C;\n",
              "        box-shadow: 0px 1px 3px 1px rgba(0, 0, 0, 0.15);\n",
              "        filter: drop-shadow(0px 1px 2px rgba(0, 0, 0, 0.3));\n",
              "        fill: #FFFFFF;\n",
              "      }\n",
              "    </style>\n",
              "    <button class=\"colab-df-generate\" onclick=\"generateWithVariable('df')\"\n",
              "            title=\"Generate code using this dataframe.\"\n",
              "            style=\"display:none;\">\n",
              "\n",
              "  <svg xmlns=\"http://www.w3.org/2000/svg\" height=\"24px\"viewBox=\"0 0 24 24\"\n",
              "       width=\"24px\">\n",
              "    <path d=\"M7,19H8.4L18.45,9,17,7.55,7,17.6ZM5,21V16.75L18.45,3.32a2,2,0,0,1,2.83,0l1.4,1.43a1.91,1.91,0,0,1,.58,1.4,1.91,1.91,0,0,1-.58,1.4L9.25,21ZM18.45,9,17,7.55Zm-12,3A5.31,5.31,0,0,0,4.9,8.1,5.31,5.31,0,0,0,1,6.5,5.31,5.31,0,0,0,4.9,4.9,5.31,5.31,0,0,0,6.5,1,5.31,5.31,0,0,0,8.1,4.9,5.31,5.31,0,0,0,12,6.5,5.46,5.46,0,0,0,6.5,12Z\"/>\n",
              "  </svg>\n",
              "    </button>\n",
              "    <script>\n",
              "      (() => {\n",
              "      const buttonEl =\n",
              "        document.querySelector('#id_51cbceb4-9a64-4ddb-b149-f548173d86ce button.colab-df-generate');\n",
              "      buttonEl.style.display =\n",
              "        google.colab.kernel.accessAllowed ? 'block' : 'none';\n",
              "\n",
              "      buttonEl.onclick = () => {\n",
              "        google.colab.notebook.generateWithVariable('df');\n",
              "      }\n",
              "      })();\n",
              "    </script>\n",
              "  </div>\n",
              "\n",
              "    </div>\n",
              "  </div>\n"
            ],
            "application/vnd.google.colaboratory.intrinsic+json": {
              "type": "dataframe",
              "variable_name": "df"
            }
          },
          "metadata": {},
          "execution_count": 6
        }
      ]
    },
    {
      "cell_type": "markdown",
      "metadata": {
        "id": "ilure2qpw4lT"
      },
      "source": [
        "### Dataset Overview\n",
        "\n",
        "* Site:  A large space that could contain multiple readers. Ex: DC 1.\n",
        "* Zone:  Point of interest. These represent areas in which repeaters are installed. These can be thought of as sub-zones.  Ex: Dock Doors.\n",
        "* Asset ID: The unique ID of the asset.\n",
        "* Asset Type: The type of thing that is detected (ie tote).\n",
        "* Device ID: The unique gateway reader ID that detected the device in the zone (there can be multiple in one zone).\n",
        "* Time est: The time in EST.\n",
        "* Lon: Longituge\n",
        "* Lat: Latitude\n",
        "* Temperature_C / F: Temperature in Celsius, Fahrentheit"
      ]
    },
    {
      "cell_type": "markdown",
      "metadata": {
        "id": "0PcG1lJdwopq"
      },
      "source": [
        "## PART 1: Data Overview"
      ]
    },
    {
      "cell_type": "markdown",
      "metadata": {
        "id": "tLLUIhxZ0wvF"
      },
      "source": [
        "### Question 1:\n",
        "\n",
        "* How many unique cases were we tracking throughout this pilot. (1 pt)\n",
        "* What are the unique zones we could see (1 pt)\n",
        "* How many POI's are in each Zone. (2 pts)\n"
      ]
    },
    {
      "cell_type": "markdown",
      "source": [
        "#### Solutions of Question 1\n"
      ],
      "metadata": {
        "id": "D9KVZVvotBmS"
      }
    },
    {
      "cell_type": "markdown",
      "source": [
        "The number of unique assets is 18 routes in total"
      ],
      "metadata": {
        "id": "3ATfghX0tnaE"
      }
    },
    {
      "cell_type": "code",
      "execution_count": 7,
      "metadata": {
        "id": "PDMC6O4h0uqD",
        "outputId": "8953ceb2-9d80-47ed-c1a3-2fcb1c3521f8",
        "colab": {
          "base_uri": "https://localhost:8080/"
        }
      },
      "outputs": [
        {
          "output_type": "execute_result",
          "data": {
            "text/plain": [
              "18"
            ]
          },
          "metadata": {},
          "execution_count": 7
        }
      ],
      "source": [
        "df.asset_id.nunique()"
      ]
    },
    {
      "cell_type": "markdown",
      "source": [
        "The number of unique zones (Site) is using nunique that is 4. But if we refer to the subs-zones using Zone column is 15"
      ],
      "metadata": {
        "id": "aKAH4XmMynny"
      }
    },
    {
      "cell_type": "code",
      "source": [
        "num_unique_sites = df.Site.nunique()\n",
        "num_unique_zones = df.Zone.nunique()\n",
        "print(\"Number of unique Sites: \", num_unique_sites)\n",
        "print(\"Number of unique Zones: \", num_unique_zones)"
      ],
      "metadata": {
        "id": "cjOkay_yy8LJ",
        "outputId": "c67debe2-93fc-41c8-9171-c1abee804568",
        "colab": {
          "base_uri": "https://localhost:8080/"
        }
      },
      "execution_count": 8,
      "outputs": [
        {
          "output_type": "stream",
          "name": "stdout",
          "text": [
            "Number of unique Sites:  4\n",
            "Number of unique Zones:  15\n"
          ]
        }
      ]
    },
    {
      "cell_type": "markdown",
      "source": [
        "According to the previous point we have 4 Sites divided into 15 Zones. The distribution is:"
      ],
      "metadata": {
        "id": "nsSopPRrzwik"
      }
    },
    {
      "cell_type": "code",
      "source": [
        "df.groupby(['Site']).Zone.nunique()"
      ],
      "metadata": {
        "id": "P2LM8WMczwH9",
        "outputId": "3f77e7a2-8500-4499-e609-eb2bd14c040c",
        "colab": {
          "base_uri": "https://localhost:8080/"
        }
      },
      "execution_count": 9,
      "outputs": [
        {
          "output_type": "execute_result",
          "data": {
            "text/plain": [
              "Site\n",
              "DC 1       5\n",
              "DC 2       2\n",
              "Store      4\n",
              "Transit    4\n",
              "Name: Zone, dtype: int64"
            ]
          },
          "metadata": {},
          "execution_count": 9
        }
      ]
    },
    {
      "cell_type": "markdown",
      "metadata": {
        "id": "5SaHgmjN1sfO"
      },
      "source": [
        "### Question 2:\n",
        "\n",
        "* What is the temperature range we see?  (1pt)\n",
        "* Where is temperature the highest and lowest (1pt)"
      ]
    },
    {
      "cell_type": "markdown",
      "source": [
        "#### Solutions of Question 2"
      ],
      "metadata": {
        "id": "XkejI1jH2KsO"
      }
    },
    {
      "cell_type": "markdown",
      "source": [
        "We can obtain the temperature range with minimum and maximum.\n",
        "\n",
        "Minimum: 44℃\n",
        "\n",
        "Maximum: 19℃\n",
        "\n",
        "Interval: 25℃\n",
        "\n",
        "Mean: 25.87℃"
      ],
      "metadata": {
        "id": "8Q6q0cfo2UWn"
      }
    },
    {
      "cell_type": "code",
      "source": [
        "temp_max = df.Temperature_C.max()\n",
        "temp_min = df.Temperature_C.min()\n",
        "temp_mean = df.Temperature_C.mean()\n",
        "\n",
        "print(\"Maximum recorded temperature: \", temp_max)\n",
        "print(\"Minimum temperature recorded: \", temp_min)\n",
        "print(\"Range temperature recorded: \", temp_max - temp_min)\n",
        "print(\"Mean temperature recorded: \", temp_mean)\n"
      ],
      "metadata": {
        "id": "MLtAr47P3ATf",
        "outputId": "90e38734-5b9d-41b2-bbc0-98219729585c",
        "colab": {
          "base_uri": "https://localhost:8080/"
        }
      },
      "execution_count": 89,
      "outputs": [
        {
          "output_type": "stream",
          "name": "stdout",
          "text": [
            "Maximum recorded temperature:  44.0\n",
            "Minimum temperature recorded:  19.0\n",
            "Range temperature recorded:  25.0\n",
            "Mean temperature recorded:  25.87444460676144\n"
          ]
        }
      ]
    },
    {
      "cell_type": "markdown",
      "source": [
        "We can determine that the site with the lowest and highest temperature record is e `Store` con 19℃ minimum and 44℃ maximum. Searching on zones with Site as Store we see that `store_back_Store` is the one that has these maximum and minimum records. Which reach the minimum at `21 hrs` and the maximum at `9 hrs` on 2022-08-04.\n",
        "\n"
      ],
      "metadata": {
        "id": "wWspC04v4IAK"
      }
    },
    {
      "cell_type": "code",
      "source": [
        "temps_by_Site = df.groupby(['Site']).Temperature_C.agg(['min', 'max'])\n",
        "temps_by_Zones = df[['Site', 'Zone', 'Temperature_C']].groupby(['Site','Zone']).Temperature_C.agg(['min', 'max'])\n",
        "\n",
        "df_Store = df[df['Site'] == 'Store']\n",
        "temps_on_Store = df_Store.groupby(['Zone']).Temperature_C.agg(['min', 'max'])\n",
        "\n",
        "temps_on_store_back_Store = df_Store[df_Store['Zone'] == 'store_back_Store'].groupby(['date','hour']).Temperature_C.agg(['min', 'max'])\n",
        "\n",
        "print(\"Temperatures by Site:\\n\", temps_by_Site)\n",
        "print(\"\\n\\nTemperatures by Zone on Store Site:\\n\", temps_on_Store)\n",
        "print(\"\\n\\nTemperatures by Hour and Date on store_back_Store Zone\\n\", temps_on_store_back_Store)\n",
        "print(\"\\n\\nTemperatures by Sites and Zones\\n\", temps_by_Zones)"
      ],
      "metadata": {
        "id": "-h5etrYJ4Ghu",
        "outputId": "bc9c8556-b9a6-4c98-a42f-9f6728f97967",
        "colab": {
          "base_uri": "https://localhost:8080/"
        }
      },
      "execution_count": 90,
      "outputs": [
        {
          "output_type": "stream",
          "name": "stdout",
          "text": [
            "Temperatures by Site:\n",
            "           min    max\n",
            "Site                \n",
            "DC 1     22.5  28.13\n",
            "DC 2     23.5  27.00\n",
            "Store    19.0  44.00\n",
            "Transit  21.0  34.00\n",
            "\n",
            "\n",
            "Temperatures by Zone on Store Site:\n",
            "                       min   max\n",
            "Zone                           \n",
            "point_of_sale_Store  21.0  29.5\n",
            "receiving_Store      20.0  44.0\n",
            "store_back_Store     19.0  44.0\n",
            "store_front_Store    20.0  32.5\n",
            "\n",
            "\n",
            "Temperatures by Hour and Date on store_back_Store Zone\n",
            "                    min   max\n",
            "date       hour             \n",
            "2022-08-04 8     23.50  28.5\n",
            "           9     24.00  44.0\n",
            "           10    23.00  43.0\n",
            "           11    22.50  30.5\n",
            "           12    22.00  31.5\n",
            "           13    22.00  33.5\n",
            "           14    22.00  34.5\n",
            "           15    22.00  35.0\n",
            "           16    22.50  34.5\n",
            "           17    22.00  34.0\n",
            "           18    21.20  33.5\n",
            "           19    20.50  32.5\n",
            "           20    19.50  31.5\n",
            "           21    19.00  31.0\n",
            "           22    19.50  31.0\n",
            "           23    22.00  30.5\n",
            "2022-08-05 0     23.00  30.5\n",
            "           1     23.50  30.0\n",
            "           2     24.00  29.5\n",
            "           3     23.67  29.5\n",
            "           4     23.00  29.0\n",
            "           5     22.50  28.5\n",
            "           6     20.00  28.5\n",
            "           7     19.50  28.0\n",
            "           8     20.00  41.5\n",
            "           9     19.50  27.5\n",
            "           10    20.00  28.0\n",
            "           11    20.00  29.0\n",
            "           12    20.00  30.5\n",
            "           13    20.00  31.0\n",
            "\n",
            "\n",
            "Temperatures by Sites and Zones\n",
            "                                min    max\n",
            "Site    Zone                             \n",
            "DC 1    Forklift1_DC1        22.50  24.50\n",
            "        Forklift3_DC1        22.50  28.13\n",
            "        dock_doors_DC1       22.50  25.00\n",
            "        pallet_assembly_DC1  22.50  25.00\n",
            "        staging_DC1          22.50  25.00\n",
            "DC 2    dock_doors_DC2       23.50  27.00\n",
            "        staging_DC2          23.93  27.00\n",
            "Store   point_of_sale_Store  21.00  29.50\n",
            "        receiving_Store      20.00  44.00\n",
            "        store_back_Store     19.00  44.00\n",
            "        store_front_Store    20.00  32.50\n",
            "Transit PhoneKit1Bridge      21.00  34.00\n",
            "        PhoneKit1GW          21.80  25.50\n",
            "        PhoneKit2Bridge      21.00  34.00\n",
            "        PhoneKit2GW          21.00  34.00\n"
          ]
        }
      ]
    },
    {
      "cell_type": "markdown",
      "metadata": {
        "id": "83ZytoZ02Oih"
      },
      "source": [
        "## Part 2: The Journey of a Case"
      ]
    },
    {
      "cell_type": "markdown",
      "metadata": {
        "id": "LT32Svy42BR8"
      },
      "source": [
        "### Question 3:\n",
        "\n",
        "* Create a visualization that shows where a case was at over time at the zone or POI level. Imagine that this would be included in your presentation to the customer. (Non techical audience) (3 pts)"
      ]
    },
    {
      "cell_type": "markdown",
      "source": [
        "#### Solution of Question 3"
      ],
      "metadata": {
        "id": "FJ2HZF8LB_FL"
      }
    },
    {
      "cell_type": "markdown",
      "source": [
        "Let's take the case of asset_id = 2\n",
        "\n",
        "This asset has 28 devices that tracked it\n",
        "\n"
      ],
      "metadata": {
        "id": "scdPbtMyB4sl"
      }
    },
    {
      "cell_type": "code",
      "execution_count": 45,
      "metadata": {
        "id": "dVuYYJMB2t_I",
        "outputId": "c086f877-0cec-4d61-847a-0aa33d1614f9",
        "colab": {
          "base_uri": "https://localhost:8080/"
        }
      },
      "outputs": [
        {
          "output_type": "execute_result",
          "data": {
            "text/plain": [
              "hour  Zone             \n",
              "0     store_back_Store     23.464250\n",
              "1     store_back_Store     24.038655\n",
              "2     store_back_Store     24.454833\n",
              "3     store_back_Store     24.513277\n",
              "      store_front_Store    24.500000\n",
              "                             ...    \n",
              "22    store_back_Store     21.402750\n",
              "23    PhoneKit1Bridge      26.000000\n",
              "      PhoneKit2Bridge      26.000000\n",
              "      store_back_Store     22.568992\n",
              "      store_front_Store    23.000000\n",
              "Name: Temperature_C, Length: 83, dtype: float64"
            ]
          },
          "metadata": {},
          "execution_count": 45
        }
      ],
      "source": [
        "# df_case = df[df['asset_id'] == 2]\n",
        "# df_case = df[df['device_id'] == '7F9A8353E973']\n",
        "df_case = df[df['tag_id'] == '(01)00850027865010(21)0082T0219']\n",
        "\n",
        "df_case.sort_values('time_est').groupby(['hour', 'Zone']).Temperature_C.mean()\n",
        " #.groupby(['Site','Zone'])[['date','hour']].agg(['min', 'max'])"
      ]
    },
    {
      "cell_type": "markdown",
      "metadata": {
        "id": "n7nBbEZ42vvP"
      },
      "source": [
        "### Question 4:\n",
        "\n",
        "* Visualize how the temperatue changes over time along its journey.  Imagine that this would be included in your presentation to the customer. (Non techical audience) (4 pts)\n",
        "\n"
      ]
    },
    {
      "cell_type": "code",
      "execution_count": null,
      "metadata": {
        "id": "rZ6EgZDa3YCv"
      },
      "outputs": [],
      "source": [
        "# YOUR CODE HERE:"
      ]
    },
    {
      "cell_type": "markdown",
      "metadata": {
        "id": "jq6sZbij4n5g"
      },
      "source": [
        "### Question 5:\n",
        "* Visualize the lon lat data on a map to show how the case traveled.  You may incorporate any other additional information to make this more impactful. Imagine that this would be included in your presentation to the customer. (Non techical audience) (5 pts)\n",
        "\n",
        "**Do not worry if this looks like non-sense on a map.  Ex:  The trip may appear to occur over water or in a forest because this is a toy dataset.**"
      ]
    },
    {
      "cell_type": "code",
      "execution_count": null,
      "metadata": {
        "id": "S0NrgqkM5a3m"
      },
      "outputs": [],
      "source": [
        "# YOUR CODE HERE:"
      ]
    },
    {
      "cell_type": "markdown",
      "metadata": {
        "id": "V5nvTftA3IrL"
      },
      "source": [
        "# Part 3: Customer Questions\n"
      ]
    },
    {
      "cell_type": "markdown",
      "metadata": {
        "id": "RLBee4li3gZ5"
      },
      "source": [
        "### Question 6:\n",
        "\n",
        "The customer wants to understand the efficieny of ther DC operations.\n",
        "* Based on what you see in the data, (all zones except for STORE), which parts of their operation are most & least \"efficient? (10 pts)"
      ]
    },
    {
      "cell_type": "code",
      "execution_count": null,
      "metadata": {
        "id": "9Ad7Wwa23HzQ"
      },
      "outputs": [],
      "source": [
        "# YOUR CODE HERE"
      ]
    },
    {
      "cell_type": "markdown",
      "metadata": {
        "id": "KxsNLU4u4CT9"
      },
      "source": [
        "YOUR TEXT ANSWER HERE"
      ]
    },
    {
      "cell_type": "markdown",
      "metadata": {
        "id": "BAR8MQnp4KhD"
      },
      "source": [
        "### Question 7:\n",
        "\n",
        "The customer wants to understand the stocking efficiency in stores.\n",
        "* Based on what you see in the data, how quickly did the store unload and stock the merchandise. (5 pts)\n",
        "* How could this be converted in a KPI that a regional manager could track?  (5 pts)"
      ]
    },
    {
      "cell_type": "code",
      "execution_count": null,
      "metadata": {
        "id": "6yLtvhHB4ECp"
      },
      "outputs": [],
      "source": [
        "# YOUR CODE HERE"
      ]
    },
    {
      "cell_type": "markdown",
      "metadata": {
        "id": "FrFLqjpC51rd"
      },
      "source": [
        "YOUR TEXT ANSWER HERE"
      ]
    },
    {
      "cell_type": "markdown",
      "metadata": {
        "id": "YY5cXCAlzX9M"
      },
      "source": [
        "### Question 8:\n",
        "\n",
        "Please explain what you would ask for and what you will do with this data, given that you can talk with the following people (no code needed):\n"
      ]
    },
    {
      "cell_type": "markdown",
      "metadata": {
        "id": "CsSJ9f2fzX9M"
      },
      "source": [
        "YOUR TEXT ANSWER HERE\n",
        "* a. X\n",
        "* b. Y"
      ]
    },
    {
      "cell_type": "markdown",
      "metadata": {
        "id": "U-xbReWjr-_B"
      },
      "source": [
        "## Part 4: Bonus Insights"
      ]
    },
    {
      "cell_type": "markdown",
      "metadata": {
        "id": "XslflGXnsDAF"
      },
      "source": [
        "### Question 8\n",
        "\n",
        "The customer is open to hearing about additional insights you found in the data above and beyond what they asked for.\n",
        "* Based on what you can see in the data, are there any other interesting insights that the customer may want to hear about? (Up to 15 bonus points)\n",
        "\n"
      ]
    },
    {
      "cell_type": "code",
      "execution_count": null,
      "metadata": {
        "id": "CWpCSu8lsCJL"
      },
      "outputs": [],
      "source": [
        "# YOUR CODE HERE\n",
        "# Another metrics that could be interesting would be temperature by time"
      ]
    },
    {
      "cell_type": "markdown",
      "metadata": {
        "id": "EbkD8dTBuuj4"
      },
      "source": [
        "YOUR TEXT ANSWER HERE\n"
      ]
    }
  ],
  "metadata": {
    "colab": {
      "provenance": []
    },
    "kernelspec": {
      "display_name": "Python 3.10.5 64-bit",
      "language": "python",
      "name": "python3"
    },
    "language_info": {
      "codemirror_mode": {
        "name": "ipython",
        "version": 3
      },
      "file_extension": ".py",
      "mimetype": "text/x-python",
      "name": "python",
      "nbconvert_exporter": "python",
      "pygments_lexer": "ipython3",
      "version": "3.10.5"
    },
    "vscode": {
      "interpreter": {
        "hash": "aee8b7b246df8f9039afb4144a1f6fd8d2ca17a180786b69acc140d282b71a49"
      }
    }
  },
  "nbformat": 4,
  "nbformat_minor": 0
}